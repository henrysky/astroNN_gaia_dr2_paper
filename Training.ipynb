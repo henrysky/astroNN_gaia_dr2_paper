{
 "cells": [
  {
   "cell_type": "markdown",
   "metadata": {},
   "source": [
    "## Content:\n",
    "1. [Training using unmodified Gaia DR2 parallax and no offset model](#Training-using-unmodified-Gaia-DR2-parallax-and-no-offset-model)\n",
    "1. [Training using unmodified Gaia DR2 parallax and a constant offset model](#Training-using-unmodified-Gaia-DR2-parallax-and-a-constant-offset-model)\n",
    "1. [Training using unmodified Gaia DR2 parallax and a offset model depending several possible parameters](#Training-using-unmodified-Gaia-DR2-parallax-and-a-offset-model-depending-several-possible-parameters)\n",
    "1. [Minimal Constant Offset Toy Model Demo](#Minimal-Constant-Offset-Toy-Model-Demo)"
   ]
  },
  {
   "cell_type": "markdown",
   "metadata": {},
   "source": [
    "# Training using unmodified Gaia DR2 parallax and no offset model\n",
    "\n",
    "We use `ApogeeBCNN` model here"
   ]
  },
  {
   "cell_type": "code",
   "execution_count": null,
   "metadata": {},
   "outputs": [],
   "source": [
    "import h5py\n",
    "import numpy as np\n",
    "import astropy.units as u\n",
    "\n",
    "from astroNN.nn.losses import mean_absolute_error, mean_error, mean_absolute_percentage_error\n",
    "from astroNN.models import ApogeeBCNN\n",
    "from astroNN.nn.callbacks import ErrorOnNaN\n",
    "from astroNN.gaia import mag_to_fakemag\n",
    "\n",
    "with h5py.File('gaia_dr2_train.h5') as F:  # ensure the file will be cleaned up\n",
    "    parallax = np.array(F['parallax'])\n",
    "    parallax_error = np.array(F['parallax_err'])\n",
    "    spectra = np.array(F['spectra'])\n",
    "    Kcorr = np.array(F['corrected_K'])  # extinction corrected Ks\n",
    "        \n",
    "fakemag, fakemag_err = mag_to_fakemag(Kcorr, parallax*u.mas, parallax_error)\n",
    "\n",
    "#training\n",
    "bcnn_net = ApogeeBCNN()\n",
    "bcnn_net.num_hidden = [164, 64]\n",
    "bcnn_net.max_epochs = 40\n",
    "bcnn_net.targetname = ['Ks-band fakemag']\n",
    "bcnn_net.callbacks = ErrorOnNaN()\n",
    "bcnn_net.labels_norm_mode = 4  # scale label but not center it\n",
    "bcnn_net._last_layer_activation = 'softplus'  # transform NN prediction to positive number only\n",
    "bcnn_net.metrics = [mean_absolute_error, mean_error, mean_absolute_percentage_error]\n",
    "bcnn_net.train(spectra, fakemag, labels_err=fakemag_err)\n",
    "bcnn_net.save(\"astroNN_no_offset_model\")"
   ]
  },
  {
   "cell_type": "markdown",
   "metadata": {},
   "source": [
    "# Training using unmodified Gaia DR2 parallax and a constant offset model\n",
    "\n",
    "We use `ApogeeDR14GaiaDR2BCNN` model here"
   ]
  },
  {
   "cell_type": "code",
   "execution_count": null,
   "metadata": {},
   "outputs": [],
   "source": [
    "import h5py\n",
    "import numpy as np\n",
    "\n",
    "from astroNN.nn.losses import mean_absolute_error, mean_error, mean_absolute_percentage_error\n",
    "from astroNN.models import ApogeeDR14GaiaDR2BCNN\n",
    "from astroNN.nn.callbacks import ErrorOnNaN\n",
    "\n",
    "with h5py.File('gaia_dr2_train.h5') as F:  # ensure the file will be cleaned up\n",
    "    parallax = np.array(F['parallax'])\n",
    "    parallax_error = np.array(F['parallax_err'])\n",
    "    spectra = np.array(F['spectra'])\n",
    "    Kcorr = np.array(F['corrected_K'])  # extinction corrected Ks\n",
    "\n",
    "# since constant offset, give offset model featureless vectors\n",
    "aux_data = np.ones((parallax.shape[0], 3))\n",
    "\n",
    "# stack all data to the model (spectra, Ks_mag, featureless zeros vector) as input\n",
    "training_data_final = np.hstack((spectra, np.expand_dims(Kcorr, axis=1), aux_data))\n",
    "\n",
    "#training\n",
    "bcnn_net = ApogeeDR14GaiaDR2BCNN()\n",
    "bcnn_net.max_epochs = 40\n",
    "bcnn_net.callbacks = ErrorOnNaN()\n",
    "bcnn_net.labels_norm_mode = 4  # scale label but not center it\n",
    "bcnn_net.num_hidden = [164, 64, 32, 16]\n",
    "bcnn_net.metrics = [mean_absolute_error, mean_error, mean_absolute_percentage_error]\n",
    "bcnn_net.train(training_data_final, parallax, labels_err=parallax_error)\n",
    "bcnn_net.save(\"astroNN_constant_model\")"
   ]
  },
  {
   "cell_type": "markdown",
   "metadata": {},
   "source": [
    "# Training using unmodified Gaia DR2 parallax and a offset model depending several possible parameters\n",
    "\n",
    "We use `ApogeeDR14GaiaDR2BCNN` model here"
   ]
  },
  {
   "cell_type": "code",
   "execution_count": 1,
   "metadata": {},
   "outputs": [],
   "source": [
    "from astroNN.nn.losses import mean_absolute_error, mean_error, mean_absolute_percentage_error\n",
    "from astroNN.models import ApogeeDR14GaiaDR2BCNN\n",
    "from astroNN.nn.callbacks import ErrorOnNaN\n",
    "from astroNN.gaia import mag_to_fakemag\n",
    "import h5py\n",
    "import numpy as np\n",
    "import astropy.units as u\n",
    "from astroNN.nn.numpy import median_absolute_percentage_error as mape\n",
    "\n",
    "with h5py.File('gaia_dr2_train.h5') as F:  # ensure the file will be cleaned up\n",
    "    parallax = np.array(F['parallax'])\n",
    "    parallax_error = np.array(F['parallax_err'])\n",
    "    spectra = np.array(F['spectra'])\n",
    "    Kcorr = np.array(F['corrected_K'])  # extinction corrected Ks\n",
    "    bp_rp = np.array(F['bp_rp'])\n",
    "    phot_g_mean_mag = np.array(F['phot_g_mean_mag'])\n",
    "    teff = np.array(F['NN_teff'])\n",
    "\n",
    "    good_idx = ((bp_rp != -9999.) & (phot_g_mean_mag != -9999.) & (teff != -9999.) & (parallax_error / parallax < 0.1))\n",
    "\n",
    "    parallax = parallax[good_idx]\n",
    "    parallax_error = parallax_error[good_idx]\n",
    "    spectra = spectra[good_idx]\n",
    "    Kcorr = Kcorr[good_idx]\n",
    "    bp_rp = bp_rp[good_idx]\n",
    "    phot_g_mean_mag = phot_g_mean_mag[good_idx]\n",
    "    teff = teff[good_idx]\n",
    "\n",
    "# need to manually \n",
    "phot_g_mean_mag_std = np.std(phot_g_mean_mag)\n",
    "phot_g_mean_mag_mean = np.mean(phot_g_mean_mag)\n",
    "norm_phot_g_mean_mag = (phot_g_mean_mag - phot_g_mean_mag_mean) / phot_g_mean_mag_std\n",
    "\n",
    "bp_rp_std = np.std(bp_rp)\n",
    "bp_rp_mean = np.mean(bp_rp)\n",
    "norm_bp_rp = (bp_rp - bp_rp_mean) / bp_rp_std\n",
    "\n",
    "teff_std = np.std(teff)\n",
    "teff_mean = np.mean(teff)\n",
    "norm_teff = (teff - teff_mean) / teff_std\n",
    "\n",
    "# stack all the gaia data\n",
    "aux_data = np.stack((norm_phot_g_mean_mag, norm_bp_rp, norm_teff)).T\n",
    "\n",
    "# stack all data to the model (spectra, Ks_mag, whatever_to_model) as input\n",
    "training_data_final = np.hstack((spectra, np.expand_dims(Kcorr, axis=1), aux_data))\n",
    "\n",
    "#training\n",
    "bcnn_net = ApogeeDR14GaiaDR2BCNN()\n",
    "bcnn_net.max_epochs = 40\n",
    "bcnn_net.callbacks = ErrorOnNaN()\n",
    "bcnn_net.labels_norm_mode = 4  # scale label but not center it\n",
    "bcnn_net.num_hidden = [164, 64, 32, 16]\n",
    "bcnn_net.metrics = [mean_absolute_error, mean_error, mean_absolute_percentage_error]\n",
    "bcnn_net.train(training_data_final, parallax, labels_err=parallax_error)\n",
    "bcnn_net.save(\"astroNN_multivariate_model\")"
   ]
  },
  {
   "cell_type": "markdown",
   "metadata": {},
   "source": [
    "After saved the model, we need to do a few tweaks to make the model work properly\n",
    "1. manually set the mean and std of the gaia input data\n",
    "2. manually set the normalizatio mode after that"
   ]
  },
  {
   "cell_type": "code",
   "execution_count": 2,
   "metadata": {},
   "outputs": [],
   "source": [
    "import json\n",
    "import numpy as np\n",
    "\n",
    "with open(\"astroNN_multivariate_model/astroNN_model_parameter.json\", 'r') as fp:\n",
    "    data = json.load(fp)\n",
    "\n",
    "std = np.ones(7518)\n",
    "std[7515] = phot_g_mean_mag_std\n",
    "std[7516] = bp_rp_std\n",
    "std[7517] = teff_std\n",
    "    \n",
    "data['input_std'] = std.tolist()\n",
    "\n",
    "mean = np.array(data['input_mean'])\n",
    "mean[7515] = phot_g_mean_mag_mean\n",
    "mean[7516] = bp_rp_mean\n",
    "mean[7517] = teff_mean\n",
    "\n",
    "data['input_mean'] = mean.tolist()\n",
    "data['input_norm_mode'] = 2\n",
    "\n",
    "with open(\"astroNN_multivariate_model/astroNN_model_parameter.json\", 'w') as fp:\n",
    "    json.dump(data, fp, indent=4, sort_keys=True)"
   ]
  },
  {
   "cell_type": "markdown",
   "metadata": {},
   "source": [
    "## Minimal Constant Offset Toy Model Demo\n",
    "\n",
    "Below is just a toy model which is a minimal version of our constant offset model to let you better understand what is going on or do experiment with some make-up data\n",
    "\n",
    "To plot mode, refer to: https://astronn.readthedocs.io/en/v1.0.0/quick_start.html#i-have-installed-pydot-ng-and-graphviz-but-still-fail-to-plot-the-model"
   ]
  },
  {
   "cell_type": "code",
   "execution_count": 1,
   "metadata": {},
   "outputs": [
    {
     "name": "stdout",
     "output_type": "stream",
     "text": [
      "Calibrated offset found:  -0.0512201 \n",
      "\n"
     ]
    },
    {
     "data": {
      "image/png": "[encoded data removed]",
      "text/plain": [
       "<IPython.core.display.Image object>"
      ]
     },
     "execution_count": 1,
     "metadata": {},
     "output_type": "execute_result"
    }
   ],
   "source": [
    "import tensorflow as tf\n",
    "import numpy as np\n",
    "from IPython.display import Image\n",
    "from astroNN.config import cpu_gpu_check\n",
    "\n",
    "# check CPU GPU config first with astroNN\n",
    "cpu_gpu_check()\n",
    "\n",
    "# set the name\n",
    "keras = tf.keras\n",
    "Input, Dense, Lambda, Add = keras.layers.Input, keras.layers.Dense, keras.layers.Lambda, keras.layers.Add\n",
    "Model = keras.models.Model\n",
    "plot_model = keras.utils.plot_model\n",
    "sgd = tf.train.GradientDescentOptimizer\n",
    "\n",
    "true_offset = -0.05  # \"gaia parallax offset ground turth\"\n",
    "\n",
    "# setup some random data\n",
    "spectra = np.random.normal(0., 0.1, (1000, 700))  # 700 pixels normalized \"spectra\"\n",
    "K_mag = np.random.normal(0, 0.5, 1000)  # \"normalized Ks-band apperant magnitude\"\n",
    "Lmin = np.log(1+np.exp(spectra[:, 100]))  # lets say luminosity is just softplus activated of the 100th spectra flux\n",
    "g_parallax = (Lmin * np.power(10, (-0.2 * K_mag))) + true_offset  # \"gaia parallax\"\n",
    "offset_input = np.ones(1000)  # featureless vector of 1s\n",
    "\n",
    "# all the input tensor\n",
    "inputs = Input(shape=(700,), name=\"spectra-input\")\n",
    "inputs_mag = Input(shape=(1,), name=\"Kmag-input\")\n",
    "inputs_offset = Input(shape=(1,), name=\"offset-dependence-input\")\n",
    "\n",
    "# model\n",
    "luminosity = Dense(1,activation='softplus', name='spectro-luminosity-model', use_bias=False)(inputs)  # spectroscopic luminosity\n",
    "luminosity_to_parallax = Lambda(lambda mag: tf.multiply(mag[0], tf.pow(10., tf.multiply(-0.2, mag[1]))), \n",
    "                                name='luminosity-to-parallax')([luminosity, inputs_mag])  # spectroscopic luminosity to parallax with K-mag\n",
    "offset = Dense(1,activation='linear', name='Offset-model', use_bias=False)(inputs_offset)  # offset calibrated by offset calibration model\n",
    "preds =  Lambda(lambda x: tf.add(x[0], x[1]), name=\"Sum-NN-parallax-N-offset\")([luminosity_to_parallax, offset])  # spectro-photometric parallax + offset\n",
    "model = Model(inputs=[inputs, inputs_mag, inputs_offset],outputs=preds)  # setup model\n",
    "\n",
    "sgd=sgd(learning_rate=0.01)  # setup optimizer\n",
    "model.compile(optimizer=sgd ,loss='mse',metrics=['mse'])\n",
    "model.fit([spectra, K_mag, offset_input], g_parallax, batch_size=64, epochs=60, shuffle=True, verbose=0, validation_split=0.1)\n",
    "\n",
    "print(\"Calibrated offset found: \", model.get_layer(\"Offset-model\").get_weights()[0][0][0], \"\\n\")\n",
    "\n",
    "plot_model(model, show_shapes=True, show_layer_names=True, to_file=\"minimal_constant_offset_model.png\")\n",
    "Image(filename=\"minimal_constant_offset_model.png\")"
   ]
  }
 ],
 "metadata": {
  "kernelspec": {
   "display_name": "Python 3",
   "language": "python",
   "name": "python3"
  },
  "language_info": {
   "codemirror_mode": {
    "name": "ipython",
    "version": 3
   },
   "file_extension": ".py",
   "mimetype": "text/x-python",
   "name": "python",
   "nbconvert_exporter": "python",
   "pygments_lexer": "ipython3",
   "version": "3.7.1"
  }
 },
 "nbformat": 4,
 "nbformat_minor": 2
}
