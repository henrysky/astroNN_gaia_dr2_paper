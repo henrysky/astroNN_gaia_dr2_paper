{
 "cells": [
  {
   "cell_type": "markdown",
   "metadata": {},
   "source": [
    "# Training using unmodified Gaia DR2 parallax and no offset model\n",
    "\n",
    "We use `ApogeeBCNN` model here"
   ]
  },
  {
   "cell_type": "code",
   "execution_count": null,
   "metadata": {},
   "outputs": [],
   "source": [
    "import h5py\n",
    "import numpy as np\n",
    "import astropy.units as u\n",
    "\n",
    "from astroNN.nn.losses import mean_absolute_error, mean_error, mean_absolute_percentage_error\n",
    "from astroNN.models import ApogeeBCNN\n",
    "from astroNN.nn.callbacks import ErrorOnNaN\n",
    "from astroNN.gaia import mag_to_fakemag\n",
    "\n",
    "with h5py.File('gaia_dr2_train.h5') as F:  # ensure the file will be cleaned up\n",
    "    parallax = np.array(F['parallax'])\n",
    "    parallax_error = np.array(F['parallax_err'])\n",
    "    spectra = np.array(F['spectra'])\n",
    "    Kcorr = np.array(F['corrected_K'])  # extinction corrected Ks\n",
    "        \n",
    "fakemag, fakemag_err = mag_to_fakemag(Kcorr, parallax*u.mas, parallax_error)\n",
    "\n",
    "bcnn_net = ApogeeBCNN()\n",
    "bcnn_net.num_hidden = [164, 64]\n",
    "bcnn_net.max_epochs = 40\n",
    "bcnn_net.targetname = ['Ks-band fakemag']\n",
    "bcnn_net.callbacks = ErrorOnNaN()\n",
    "bcnn_net.labels_norm_mode = 4  # scale label but not center it\n",
    "bcnn_net._last_layer_activation = 'softplus'  # transform NN prediction to positive number only\n",
    "bcnn_net.metrics = [mean_absolute_error, mean_error, mean_absolute_percentage_error]\n",
    "bcnn_net.train(spectra, fakemag, labels_err=fakemag_err)\n",
    "bcnn_net.save(\"astroNN_no_offset_model\")"
   ]
  },
  {
   "cell_type": "markdown",
   "metadata": {},
   "source": [
    "# Training using unmodified Gaia DR2 parallax and a constant offset model\n",
    "\n",
    "We use `ApogeeDR14GaiaDR2BCNN` model here"
   ]
  },
  {
   "cell_type": "code",
   "execution_count": null,
   "metadata": {},
   "outputs": [],
   "source": [
    "import h5py\n",
    "import numpy as np\n",
    "\n",
    "from astroNN.nn.losses import mean_absolute_error, mean_error, mean_absolute_percentage_error\n",
    "from astroNN.models import ApogeeDR14GaiaDR2BCNN\n",
    "from astroNN.nn.callbacks import ErrorOnNaN\n",
    "\n",
    "with h5py.File('gaia_dr2_train.h5') as F:  # ensure the file will be cleaned up\n",
    "    parallax = np.array(F['parallax'])\n",
    "    parallax_error = np.array(F['parallax_err'])\n",
    "    spectra = np.array(F['spectra'])\n",
    "    Kcorr = np.array(F['corrected_K'])  # extinction corrected Ks\n",
    "\n",
    "# since constant offset, give offset model featureless vectors\n",
    "aux_data = np.ones((parallax.shape[0], 3))\n",
    "\n",
    "# stack all data to the model (spectra, Ks_mag, whatever_to_model)\n",
    "training_data_final = np.hstack((spectra, np.expand_dims(Kcorr, axis=1), aux_data))\n",
    "\n",
    "bcnn_net = ApogeeDR14GaiaDR2BCNN()\n",
    "bcnn_net.max_epochs = 40\n",
    "bcnn_net.callbacks = ErrorOnNaN()\n",
    "bcnn_net.labels_norm_mode = 4  # scale label but not center it\n",
    "bcnn_net.num_hidden = [164, 64, 32, 16]\n",
    "bcnn_net.metrics = [mean_absolute_error, mean_error, mean_absolute_percentage_error]\n",
    "bcnn_net.train(training_data_final, parallax, labels_err=parallax_error)\n",
    "bcnn_net.save(\"astroNN_constant_model\")"
   ]
  },
  {
   "cell_type": "markdown",
   "metadata": {},
   "source": [
    "# Training using unmodified Gaia DR2 parallax and a offset model depending several possible parameters\n",
    "\n",
    "We use `ApogeeDR14GaiaDR2BCNN` model here"
   ]
  },
  {
   "cell_type": "code",
   "execution_count": null,
   "metadata": {},
   "outputs": [],
   "source": [
    "from astroNN.nn.losses import mean_absolute_error, mean_error, mean_absolute_percentage_error\n",
    "from astroNN.models import ApogeeDR14GaiaDR2BCNN\n",
    "from astroNN.nn.callbacks import ErrorOnNaN\n",
    "from astroNN.gaia import mag_to_fakemag\n",
    "import h5py\n",
    "import numpy as np\n",
    "import astropy.units as u\n",
    "from astroNN.nn.numpy import median_absolute_percentage_error as mape\n",
    "\n",
    "with h5py.File('gaia_dr2_train.h5') as F:  # ensure the file will be cleaned up\n",
    "    parallax = np.array(F['parallax'])\n",
    "    parallax_error = np.array(F['parallax_err'])\n",
    "    spectra = np.array(F['spectra'])\n",
    "    Kcorr = np.array(F['corrected_K'])\n",
    "    bp_rp = np.array(F['bp_rp'])\n",
    "    phot_g_mean_mag = np.array(F['phot_g_mean_mag'])\n",
    "    \n",
    "    good_idx = ((bp_rp != -9999.) & (phot_g_mean_mag != -9999.))\n",
    "\n",
    "    parallax = parallax[good_idx]\n",
    "    parallax_error = parallax_error[good_idx]\n",
    "    spectra = spectra[good_idx]\n",
    "    Kcorr = Kcorr[good_idx]\n",
    "    bp_rp = bp_rp[good_idx]\n",
    "    phot_g_mean_mag = phot_g_mean_mag[good_idx]\n",
    "\n",
    "# need to manually \n",
    "phot_g_mean_mag_std = np.std(phot_g_mean_mag)\n",
    "phot_g_mean_mag_mean = np.mean(phot_g_mean_mag)\n",
    "norm_phot_g_mean_mag = (phot_g_mean_mag - phot_g_mean_mag_mean) / phot_g_mean_mag_std\n",
    "bp_rp_std = np.std(bp_rp)\n",
    "bp_rp_mean = np.mean(bp_rp)\n",
    "norm_bp_rp = (bp_rp - bp_rp_mean) / bp_rp_std\n",
    "aux_data = np.stack((norm_phot_g_mean_mag, norm_bp_rp)).T\n",
    "\n",
    "# stack all data to the model (spectra, Ks_mag, whatever_to_model)\n",
    "training_data_final = np.hstack((spectra, np.expand_dims(Kcorr, axis=1), aux_data))\n",
    "\n",
    "bcnn_net = ApogeeDR14GaiaDR2BCNN()\n",
    "bcnn_net.max_epochs = 40\n",
    "bcnn_net.callbacks = ErrorOnNaN()\n",
    "bcnn_net.labels_norm_mode = 4  # scale label but not center it\n",
    "bcnn_net.num_hidden = [164, 64, 32, 16]\n",
    "bcnn_net.metrics = [mean_absolute_error, mean_error, mean_absolute_percentage_error]\n",
    "bcnn_net.train(training_data_final, parallax, labels_err=parallax_error)\n",
    "bcnn_net.save(\"astroNN_multivariate_model\")"
   ]
  }
 ],
 "metadata": {
  "kernelspec": {
   "display_name": "Python 3",
   "language": "python",
   "name": "python3"
  },
  "language_info": {
   "codemirror_mode": {
    "name": "ipython",
    "version": 3
   },
   "file_extension": ".py",
   "mimetype": "text/x-python",
   "name": "python",
   "nbconvert_exporter": "python",
   "pygments_lexer": "ipython3",
   "version": "3.7.0"
  }
 },
 "nbformat": 4,
 "nbformat_minor": 2
}
